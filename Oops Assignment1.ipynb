{
 "cells": [
  {
   "cell_type": "markdown",
   "id": "f838d31e-ced1-4af3-bf1f-3a0f22b238ee",
   "metadata": {},
   "source": [
    "### Q1. Explain Class and Object with respect to Object-Oriented Programming. Give a suitable example."
   ]
  },
  {
   "cell_type": "markdown",
   "id": "68ada488-597c-45f4-9edb-d617c408581e",
   "metadata": {},
   "source": [
    "### In object-oriented programming (OOP), a class is a blueprint or template that defines the structure and behavior of objects. It is a programming construct that encapsulates data (attributes) and methods (functions) into a single unit. You can think of a class as a blueprint for creating objects, where objects are instances of the class.\n",
    "\n",
    "### An object, on the other hand, is an instance of a class. It represents a specific entity that conforms to the structure and behavior defined by the class. Objects have their own unique state and can perform actions or interact with other objects based on the methods defined in the class."
   ]
  },
  {
   "cell_type": "markdown",
   "id": "b776b6d5-2a57-49a3-bc93-6d2858168771",
   "metadata": {},
   "source": [
    "### Let's take an example to illustrate the concept of a class and an object. Suppose we want to model a car in a software program. We can create a class called \"Car\" that defines the characteristics and behaviors of a car. Here's a simplified representation:"
   ]
  },
  {
   "cell_type": "markdown",
   "id": "ac22b411-4dda-4322-8ccf-093cfb66934d",
   "metadata": {},
   "source": [
    "### Q2. Name the four pillars of OOPs."
   ]
  },
  {
   "cell_type": "markdown",
   "id": "865eb648-8079-4c78-b2fa-c4dcf1946055",
   "metadata": {},
   "source": [
    "### Encapsulation\n",
    "\n",
    "### Polymorphism\n",
    "\n",
    "### Abstraction\n",
    "\n",
    "### Inheritance"
   ]
  },
  {
   "cell_type": "markdown",
   "id": "7a6146b0-0c92-48e0-ba0e-4db018cfac4b",
   "metadata": {},
   "source": [
    "### Q4. Why self is used in OOPs?"
   ]
  },
  {
   "cell_type": "markdown",
   "id": "6857292d-dd5a-4884-ae5a-b51307e85a9a",
   "metadata": {},
   "source": [
    "### In object-oriented programming (OOP), the self keyword is used to refer to the instance of a class within its own methods. It acts as a reference to the object itself, allowing the object to access its own attributes and methods.\n",
    "\n",
    "### Here are a few reasons why self is used in OOP:\n",
    "\n",
    "### Accessing instance attributes: Within a class method, the self parameter provides access to the object's attributes. By using self.attribute_name, you can read or modify the attribute values specific to that instance. \n",
    "\n",
    "### Invoking other methods: The self parameter is essential for invoking other methods within a class. When you call a method on an object (self.method_name()), the self reference ensures that the correct instance is executing the method. This allows methods to interact with each other and perform actions using the object's internal state.\n",
    "\n",
    "### Creating and managing instance attributes: In some cases, you might need to create or modify instance attributes dynamically within a method. By using self, you can define new attributes or modify existing ones within the object's scope. This flexibility enables objects to adapt and store specific information unique to each instance.\n",
    "\n",
    "### Supporting class inheritance: Inheritance is a key concept in OOP, allowing classes to inherit attributes and methods from their parent classes. The self parameter ensures that inherited methods can access and operate on the attributes and methods of the correct instance, maintaining proper encapsulation and behavior.\n",
    "\n",
    "### Overall, the self parameter is crucial in OOP as it provides a way for objects to refer to themselves, access their own data, and interact with their own methods. It establishes the link between the instance and its methods, allowing for encapsulation, code reusability, and object-oriented design principles.\n",
    "\n",
    "\n",
    "\n",
    "\n"
   ]
  },
  {
   "cell_type": "markdown",
   "id": "22083d09-5981-40d3-9741-30d8b795479c",
   "metadata": {},
   "source": [
    "### Q5. What is inheritance? Give an example for each type of inheritance."
   ]
  },
  {
   "cell_type": "markdown",
   "id": "64f7e70e-3ea4-412e-b74a-422759cbc937",
   "metadata": {},
   "source": [
    "### Inheritance is a fundamental concept in object-oriented programming (OOP) that allows classes to inherit properties and behaviors from other classes. It promotes code reusability and supports the principle of \"is-a\" relationship, where a subclass is considered to be a specialized version of its superclass."
   ]
  },
  {
   "cell_type": "markdown",
   "id": "aca86e57-840c-4f83-a181-cddc0d233c12",
   "metadata": {},
   "source": [
    "### There are different types of inheritance, including:\n",
    "\n",
    "Single inheritance: In this type, a subclass inherits properties and methods from a single superclass. For example:\n",
    "In the example above, the class Dog inherits the eat() method from the class Animal.\n",
    "\n",
    "Multiple inheritance: Multiple inheritance allows a subclass to inherit properties and methods from multiple superclasses. For example:\n",
    "In the example above, the class Bird inherits the move() method from the class Animal and the fly() method from the class CanFly.\n",
    "\n",
    "Multilevel inheritance: Multilevel inheritance involves chaining multiple inheritance levels, where a subclass becomes the superclass for another subclass. For example:\n",
    "In the example above, the class Bulldog inherits the eat() method from the class Animal and the bark() method from the class Dog. Additionally, it defines its own method guard()\n"
   ]
  },
  {
   "cell_type": "markdown",
   "id": "9a708fd0-6613-45ff-8c65-9e35217868e8",
   "metadata": {},
   "source": [
    "### Q3. Explain why the __init__() function is used. Give a suitable example."
   ]
  },
  {
   "cell_type": "markdown",
   "id": "24a60aa1-178e-4e8b-8847-36699fd9ab7e",
   "metadata": {},
   "source": [
    "### The __init__() function is a special method in Python classes that is used to initialize objects of that class. It is called automatically when a new instance (object) of the class is created. The primary purpose of the __init__() function is to set the initial state or attributes of the object."
   ]
  },
  {
   "cell_type": "markdown",
   "id": "2dd1354f-0c94-43bc-96b5-be66e5f94f79",
   "metadata": {},
   "source": [
    "### Here's an example to illustrate the use of the __init__() function:\n",
    "\n",
    "In the example above, the Person class has an __init__() method that takes two parameters, name and age. Inside the method, these values are assigned to the object's attributes self.name and self.age.\n",
    "\n",
    "When we create an instance of the Person class using person = Person(\"Alice\", 25), the __init__() method is automatically called. It initializes the person object with the provided values for name and age."
   ]
  },
  {
   "cell_type": "code",
   "execution_count": null,
   "id": "c26a68b8-096e-44f3-a59c-a17c6e47320d",
   "metadata": {},
   "outputs": [],
   "source": []
  }
 ],
 "metadata": {
  "kernelspec": {
   "display_name": "Python 3 (ipykernel)",
   "language": "python",
   "name": "python3"
  },
  "language_info": {
   "codemirror_mode": {
    "name": "ipython",
    "version": 3
   },
   "file_extension": ".py",
   "mimetype": "text/x-python",
   "name": "python",
   "nbconvert_exporter": "python",
   "pygments_lexer": "ipython3",
   "version": "3.10.8"
  }
 },
 "nbformat": 4,
 "nbformat_minor": 5
}
